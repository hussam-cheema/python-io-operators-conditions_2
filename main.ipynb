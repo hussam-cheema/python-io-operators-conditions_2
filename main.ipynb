{
 "cells": [
  {
   "cell_type": "code",
   "execution_count": 7,
   "id": "32b3ba92-6492-45aa-8111-8916dc2cbdc4",
   "metadata": {},
   "outputs": [
    {
     "name": "stdin",
     "output_type": "stream",
     "text": [
      " 20\n"
     ]
    },
    {
     "data": {
      "text/plain": [
       "'20'"
      ]
     },
     "execution_count": 7,
     "metadata": {},
     "output_type": "execute_result"
    }
   ],
   "source": [
    "x = input()\n",
    "\n",
    "x"
   ]
  },
  {
   "cell_type": "code",
   "execution_count": 8,
   "id": "e322e3a3-1e30-4287-af50-26b68a72b8a7",
   "metadata": {},
   "outputs": [
    {
     "data": {
      "text/plain": [
       "20"
      ]
     },
     "execution_count": 8,
     "metadata": {},
     "output_type": "execute_result"
    }
   ],
   "source": [
    "x = int(x)\n",
    "\n",
    "x"
   ]
  },
  {
   "cell_type": "code",
   "execution_count": 9,
   "id": "6bd70806-8aa1-4022-82e0-4802f8bda10f",
   "metadata": {},
   "outputs": [
    {
     "data": {
      "text/plain": [
       "int"
      ]
     },
     "execution_count": 9,
     "metadata": {},
     "output_type": "execute_result"
    }
   ],
   "source": [
    "type(x)"
   ]
  },
  {
   "cell_type": "code",
   "execution_count": 10,
   "id": "d49c48b8-6338-4918-9a1a-9ee491021cd8",
   "metadata": {},
   "outputs": [
    {
     "name": "stdin",
     "output_type": "stream",
     "text": [
      " 45.45\n"
     ]
    },
    {
     "data": {
      "text/plain": [
       "'45.45'"
      ]
     },
     "execution_count": 10,
     "metadata": {},
     "output_type": "execute_result"
    }
   ],
   "source": [
    "x = input()\n",
    "\n",
    "x"
   ]
  },
  {
   "cell_type": "code",
   "execution_count": 11,
   "id": "2767fcb9-804c-40a6-91e4-cc434f183721",
   "metadata": {},
   "outputs": [
    {
     "data": {
      "text/plain": [
       "45.45"
      ]
     },
     "execution_count": 11,
     "metadata": {},
     "output_type": "execute_result"
    }
   ],
   "source": [
    "x = float(x)\n",
    "\n",
    "x"
   ]
  },
  {
   "cell_type": "code",
   "execution_count": 12,
   "id": "ddbddacb-4fa0-4391-9355-229207ea836f",
   "metadata": {},
   "outputs": [
    {
     "data": {
      "text/plain": [
       "float"
      ]
     },
     "execution_count": 12,
     "metadata": {},
     "output_type": "execute_result"
    }
   ],
   "source": [
    "type(x)"
   ]
  },
  {
   "cell_type": "code",
   "execution_count": 13,
   "id": "effc0bea-1b54-41e3-a8f4-556c4ea3275f",
   "metadata": {},
   "outputs": [
    {
     "name": "stdin",
     "output_type": "stream",
     "text": [
      "Enter your age:  30\n"
     ]
    }
   ],
   "source": [
    "response = input(\"Enter your age: \")"
   ]
  },
  {
   "cell_type": "code",
   "execution_count": 15,
   "id": "97b116ee-9c00-4ada-b67e-9587c72cd7d5",
   "metadata": {},
   "outputs": [
    {
     "data": {
      "text/plain": [
       "30"
      ]
     },
     "execution_count": 15,
     "metadata": {},
     "output_type": "execute_result"
    }
   ],
   "source": [
    "response = int(response)\n",
    "response"
   ]
  },
  {
   "cell_type": "code",
   "execution_count": 16,
   "id": "713484e4-38c2-444f-a38c-a19eeda82cb5",
   "metadata": {},
   "outputs": [
    {
     "name": "stdout",
     "output_type": "stream",
     "text": [
      "30\n"
     ]
    }
   ],
   "source": [
    "print(response)"
   ]
  },
  {
   "cell_type": "code",
   "execution_count": 17,
   "id": "c66e0b44-5c8c-46b7-b65a-cfd6a23628e3",
   "metadata": {},
   "outputs": [
    {
     "name": "stdout",
     "output_type": "stream",
     "text": [
      "My age is:  30\n"
     ]
    }
   ],
   "source": [
    "print(\"My age is: \", response)"
   ]
  },
  {
   "cell_type": "code",
   "execution_count": null,
   "id": "3ca4d3e4-8410-42a9-b8f8-bd913c09a236",
   "metadata": {},
   "outputs": [],
   "source": [
    "# +, -, /, *, %, //, **"
   ]
  },
  {
   "cell_type": "code",
   "execution_count": 18,
   "id": "fa621edc-e54d-4ac2-be2a-720e33c4647c",
   "metadata": {},
   "outputs": [
    {
     "data": {
      "text/plain": [
       "30"
      ]
     },
     "execution_count": 18,
     "metadata": {},
     "output_type": "execute_result"
    }
   ],
   "source": [
    "a = 10\n",
    "b = 20\n",
    "\n",
    "a + b"
   ]
  },
  {
   "cell_type": "code",
   "execution_count": 19,
   "id": "a5586481-53ce-49a6-aff1-3a076764e5b6",
   "metadata": {},
   "outputs": [
    {
     "data": {
      "text/plain": [
       "10"
      ]
     },
     "execution_count": 19,
     "metadata": {},
     "output_type": "execute_result"
    }
   ],
   "source": [
    "b - a"
   ]
  },
  {
   "cell_type": "code",
   "execution_count": 20,
   "id": "2f9a5657-364b-4f7c-b5ee-ac37dc5c0fc1",
   "metadata": {},
   "outputs": [
    {
     "data": {
      "text/plain": [
       "2.0"
      ]
     },
     "execution_count": 20,
     "metadata": {},
     "output_type": "execute_result"
    }
   ],
   "source": [
    "b / a"
   ]
  },
  {
   "cell_type": "code",
   "execution_count": 21,
   "id": "f4e4c1f4-57ee-484b-b31f-430b9a74294d",
   "metadata": {},
   "outputs": [
    {
     "data": {
      "text/plain": [
       "200"
      ]
     },
     "execution_count": 21,
     "metadata": {},
     "output_type": "execute_result"
    }
   ],
   "source": [
    "a * b"
   ]
  },
  {
   "cell_type": "code",
   "execution_count": 22,
   "id": "7a60f38e-15e2-41e4-bbdd-b072dc5cc8ba",
   "metadata": {},
   "outputs": [
    {
     "data": {
      "text/plain": [
       "0"
      ]
     },
     "execution_count": 22,
     "metadata": {},
     "output_type": "execute_result"
    }
   ],
   "source": [
    "c = 2\n",
    "\n",
    "b % c"
   ]
  },
  {
   "cell_type": "code",
   "execution_count": 24,
   "id": "41a0418a-0f3c-4284-b031-96676eb14fa2",
   "metadata": {},
   "outputs": [
    {
     "data": {
      "text/plain": [
       "2"
      ]
     },
     "execution_count": 24,
     "metadata": {},
     "output_type": "execute_result"
    }
   ],
   "source": [
    "a = 30\n",
    "b = 14\n",
    "\n",
    "a//b"
   ]
  },
  {
   "cell_type": "code",
   "execution_count": 25,
   "id": "5eb8ced0-246f-4bb7-920d-5f9b11a927b8",
   "metadata": {},
   "outputs": [
    {
     "data": {
      "text/plain": [
       "100"
      ]
     },
     "execution_count": 25,
     "metadata": {},
     "output_type": "execute_result"
    }
   ],
   "source": [
    "a = 10\n",
    "\n",
    "a**2"
   ]
  },
  {
   "cell_type": "code",
   "execution_count": 27,
   "id": "e4ce49a0-369d-4d58-9c47-c2a63c9371fd",
   "metadata": {},
   "outputs": [
    {
     "data": {
      "text/plain": [
       "8000"
      ]
     },
     "execution_count": 27,
     "metadata": {},
     "output_type": "execute_result"
    }
   ],
   "source": [
    "a = 20\n",
    "\n",
    "# a ** 3\n",
    "\n",
    "a * a * a"
   ]
  },
  {
   "cell_type": "code",
   "execution_count": null,
   "id": "5f8d000b-9936-4301-bdf9-43234f7684d3",
   "metadata": {},
   "outputs": [],
   "source": [
    "# and or not"
   ]
  },
  {
   "cell_type": "code",
   "execution_count": 28,
   "id": "2a15407d-e9ee-4f7f-905a-7f304b6b6407",
   "metadata": {},
   "outputs": [
    {
     "name": "stdout",
     "output_type": "stream",
     "text": [
      "False\n",
      "True\n",
      "False\n"
     ]
    }
   ],
   "source": [
    "x = 5\n",
    "y = 10\n",
    "\n",
    "print(x > 5 and y < 20)\n",
    "print(x > 5 or y < 20)\n",
    "print(not(x==5))"
   ]
  },
  {
   "cell_type": "code",
   "execution_count": 29,
   "id": "5b78b26b-6105-4818-b822-1707e10000f4",
   "metadata": {},
   "outputs": [
    {
     "name": "stdout",
     "output_type": "stream",
     "text": [
      "Hello 100\n"
     ]
    }
   ],
   "source": [
    "x = 100\n",
    "\n",
    "if x == 100:\n",
    "    print(\"Hello 100\")"
   ]
  },
  {
   "cell_type": "code",
   "execution_count": 30,
   "id": "66ba05e9-0a48-49ba-ace7-5aee3418e846",
   "metadata": {},
   "outputs": [
    {
     "name": "stdout",
     "output_type": "stream",
     "text": [
      "Hello Otherwise\n"
     ]
    }
   ],
   "source": [
    "if x == 50:\n",
    "    print(\"Hello 50\")\n",
    "else:\n",
    "    print(\"Hello Otherwise\")"
   ]
  },
  {
   "cell_type": "code",
   "execution_count": 32,
   "id": "8cdd3b36-8c8a-4a21-b697-65d38e50dbb7",
   "metadata": {},
   "outputs": [
    {
     "name": "stdout",
     "output_type": "stream",
     "text": [
      "Yes, it is : 100\n"
     ]
    }
   ],
   "source": [
    "if x == 20:\n",
    "    print(20)\n",
    "elif x == 50:\n",
    "    print(50)\n",
    "elif x == 100:\n",
    "    print(\"Yes, it is :\", x)\n",
    "else:\n",
    "    print(\"Wrong Value\")"
   ]
  },
  {
   "cell_type": "code",
   "execution_count": 33,
   "id": "c28d39c8-db05-4b0c-88ac-45610afd80c0",
   "metadata": {},
   "outputs": [
    {
     "name": "stdout",
     "output_type": "stream",
     "text": [
      "Correct Answer\n"
     ]
    }
   ],
   "source": [
    "if x == 100:\n",
    "    x = x+2\n",
    "    if x == 100:\n",
    "        print(\"Its the same\")\n",
    "    elif x == 102:\n",
    "        print(\"Correct Answer\")\n",
    "    else:\n",
    "        print(\"Something went wrong\")"
   ]
  },
  {
   "cell_type": "code",
   "execution_count": null,
   "id": "41e4befa-0df9-46cd-b300-37588e2a9e88",
   "metadata": {},
   "outputs": [],
   "source": []
  }
 ],
 "metadata": {
  "kernelspec": {
   "display_name": "Python 3 (ipykernel)",
   "language": "python",
   "name": "python3"
  },
  "language_info": {
   "codemirror_mode": {
    "name": "ipython",
    "version": 3
   },
   "file_extension": ".py",
   "mimetype": "text/x-python",
   "name": "python",
   "nbconvert_exporter": "python",
   "pygments_lexer": "ipython3",
   "version": "3.12.9"
  }
 },
 "nbformat": 4,
 "nbformat_minor": 5
}
